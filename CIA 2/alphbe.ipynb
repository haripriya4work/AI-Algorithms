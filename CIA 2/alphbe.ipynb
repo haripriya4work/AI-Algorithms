{
 "cells": [
  {
   "cell_type": "code",
   "execution_count": 1,
   "metadata": {},
   "outputs": [],
   "source": [
    "import math\n",
    "\n",
    "def alphabeta(depth, nodeIndex, isMaximizingPlayer, values, alpha, beta, maxDepth):\n",
    "    # Terminal node (leaf nodes)\n",
    "    if depth == maxDepth:\n",
    "        print(f\"Leaf node reached at depth {depth}, returning value: {values[nodeIndex]}\")\n",
    "        return values[nodeIndex]\n",
    "\n",
    "    if isMaximizingPlayer:\n",
    "        best = -math.inf\n",
    "\n",
    "        print(f\"Maximizer at depth {depth}, alpha: {alpha}, beta: {beta}\")\n",
    "        # Maximizer's choice (MAX player)\n",
    "        for i in range(2):  # As it's a binary tree, only 2 children\n",
    "            value = alphabeta(depth + 1, nodeIndex * 2 + i, False, values, alpha, beta, maxDepth)\n",
    "            print(f\"Maximizer at depth {depth}, comparing value: {value} with best: {best}\")\n",
    "            best = max(best, value)\n",
    "            alpha = max(alpha, best)\n",
    "            print(f\"Maximizer at depth {depth}, updated alpha: {alpha}\")\n",
    "            # Alpha-beta pruning\n",
    "            if beta <= alpha:\n",
    "                print(f\"Pruning branches at depth {depth} because beta ({beta}) <= alpha ({alpha})\")\n",
    "                break\n",
    "        print(f\"Maximizer at depth {depth}, selected best: {best}\")\n",
    "        return best\n",
    "    else:\n",
    "        best = math.inf\n",
    "\n",
    "        print(f\"Minimizer at depth {depth}, alpha: {alpha}, beta: {beta}\")\n",
    "        # Minimizer's choice (MIN player)\n",
    "        for i in range(2):  # As it's a binary tree, only 2 children\n",
    "            value = alphabeta(depth + 1, nodeIndex * 2 + i, True, values, alpha, beta, maxDepth)\n",
    "            print(f\"Minimizer at depth {depth}, comparing value: {value} with best: {best}\")\n",
    "            best = min(best, value)\n",
    "            beta = min(beta, best)\n",
    "            print(f\"Minimizer at depth {depth}, updated beta: {beta}\")\n",
    "            # Alpha-beta pruning\n",
    "            if beta <= alpha:\n",
    "                print(f\"Pruning branches at depth {depth} because beta ({beta}) <= alpha ({alpha})\")\n",
    "                break\n",
    "        print(f\"Minimizer at depth {depth}, selected best: {best}\")\n",
    "        return best"
   ]
  },
  {
   "cell_type": "code",
   "execution_count": 2,
   "metadata": {},
   "outputs": [
    {
     "name": "stdout",
     "output_type": "stream",
     "text": [
      "Maximizer at depth 0, alpha: -inf, beta: inf\n",
      "Minimizer at depth 1, alpha: -inf, beta: inf\n",
      "Maximizer at depth 2, alpha: -inf, beta: inf\n",
      "Leaf node reached at depth 3, returning value: 3\n",
      "Maximizer at depth 2, comparing value: 3 with best: -inf\n",
      "Maximizer at depth 2, updated alpha: 3\n",
      "Leaf node reached at depth 3, returning value: 5\n",
      "Maximizer at depth 2, comparing value: 5 with best: 3\n",
      "Maximizer at depth 2, updated alpha: 5\n",
      "Maximizer at depth 2, selected best: 5\n",
      "Minimizer at depth 1, comparing value: 5 with best: inf\n",
      "Minimizer at depth 1, updated beta: 5\n",
      "Maximizer at depth 2, alpha: -inf, beta: 5\n",
      "Leaf node reached at depth 3, returning value: 6\n",
      "Maximizer at depth 2, comparing value: 6 with best: -inf\n",
      "Maximizer at depth 2, updated alpha: 6\n",
      "Pruning branches at depth 2 because beta (5) <= alpha (6)\n",
      "Maximizer at depth 2, selected best: 6\n",
      "Minimizer at depth 1, comparing value: 6 with best: 5\n",
      "Minimizer at depth 1, updated beta: 5\n",
      "Minimizer at depth 1, selected best: 5\n",
      "Maximizer at depth 0, comparing value: 5 with best: -inf\n",
      "Maximizer at depth 0, updated alpha: 5\n",
      "Minimizer at depth 1, alpha: 5, beta: inf\n",
      "Maximizer at depth 2, alpha: 5, beta: inf\n",
      "Leaf node reached at depth 3, returning value: 1\n",
      "Maximizer at depth 2, comparing value: 1 with best: -inf\n",
      "Maximizer at depth 2, updated alpha: 5\n",
      "Leaf node reached at depth 3, returning value: 2\n",
      "Maximizer at depth 2, comparing value: 2 with best: 1\n",
      "Maximizer at depth 2, updated alpha: 5\n",
      "Maximizer at depth 2, selected best: 2\n",
      "Minimizer at depth 1, comparing value: 2 with best: inf\n",
      "Minimizer at depth 1, updated beta: 2\n",
      "Pruning branches at depth 1 because beta (2) <= alpha (5)\n",
      "Minimizer at depth 1, selected best: 2\n",
      "Maximizer at depth 0, comparing value: 2 with best: 5\n",
      "Maximizer at depth 0, updated alpha: 5\n",
      "Maximizer at depth 0, selected best: 5\n",
      "\n",
      "The optimal value is: 5\n"
     ]
    }
   ],
   "source": [
    "# Test case\n",
    "values = [3, 5, 6, 9, 1, 2, 0, -1]  # Leaf node values\n",
    "maxDepth = math.log2(len(values))  # Full binary tree\n",
    "\n",
    "# Alpha starts at -∞ and beta starts at +∞\n",
    "optimalValue = alphabeta(0, 0, True, values, -math.inf, math.inf, int(maxDepth))\n",
    "print(f\"\\nThe optimal value is: {optimalValue}\")"
   ]
  }
 ],
 "metadata": {
  "kernelspec": {
   "display_name": "Python 3",
   "language": "python",
   "name": "python3"
  },
  "language_info": {
   "codemirror_mode": {
    "name": "ipython",
    "version": 3
   },
   "file_extension": ".py",
   "mimetype": "text/x-python",
   "name": "python",
   "nbconvert_exporter": "python",
   "pygments_lexer": "ipython3",
   "version": "3.10.10"
  }
 },
 "nbformat": 4,
 "nbformat_minor": 2
}
